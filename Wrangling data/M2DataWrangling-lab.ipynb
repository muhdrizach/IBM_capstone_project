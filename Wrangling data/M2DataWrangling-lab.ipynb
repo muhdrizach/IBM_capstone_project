{
  "metadata": {
    "kernelspec": {
      "name": "python",
      "display_name": "Python (Pyodide)",
      "language": "python"
    },
    "language_info": {
      "codemirror_mode": {
        "name": "python",
        "version": 3
      },
      "file_extension": ".py",
      "mimetype": "text/x-python",
      "name": "python",
      "nbconvert_exporter": "python",
      "pygments_lexer": "ipython3",
      "version": "3.8"
    },
    "prev_pub_hash": "90ac80ca41fde58b95f02cc0cfc0a0f2ed3115615ffe1bdfdfc10fd5ffeef9a4"
  },
  "nbformat_minor": 4,
  "nbformat": 4,
  "cells": [
    {
      "cell_type": "markdown",
      "source": "<p style=\"text-align:center\">\n    <a href=\"https://skills.network/?utm_medium=Exinfluencer&utm_source=Exinfluencer&utm_content=000026UJ&utm_term=10006555&utm_id=NA-SkillsNetwork-Channel-SkillsNetworkCoursesIBMDA0321ENSkillsNetwork928-2022-01-01\" target=\"_blank\">\n    <img src=\"https://cf-courses-data.s3.us.cloud-object-storage.appdomain.cloud/assets/logos/SN_web_lightmode.png\" width=\"400\" alt=\"Skills Network Logo\"  />\n    </a>\n</p>\n",
      "metadata": {}
    },
    {
      "cell_type": "markdown",
      "source": "# **Data Wrangling Lab**\n",
      "metadata": {}
    },
    {
      "cell_type": "markdown",
      "source": "Estimated time needed: **45 to 60** minutes\n",
      "metadata": {}
    },
    {
      "cell_type": "markdown",
      "source": "In this assignment you will be performing data wrangling.\n",
      "metadata": {}
    },
    {
      "cell_type": "markdown",
      "source": "## Objectives\n",
      "metadata": {}
    },
    {
      "cell_type": "markdown",
      "source": "In this lab you will perform the following:\n",
      "metadata": {}
    },
    {
      "cell_type": "markdown",
      "source": "-   Identify duplicate values in the dataset.\n\n-   Remove duplicate values from the dataset.\n\n-   Identify missing values in the dataset.\n\n-   Impute the missing values in the dataset.\n\n-   Normalize data in the dataset.\n",
      "metadata": {}
    },
    {
      "cell_type": "markdown",
      "source": "<hr>\n",
      "metadata": {}
    },
    {
      "cell_type": "markdown",
      "source": "## Hands on Lab\n",
      "metadata": {}
    },
    {
      "cell_type": "markdown",
      "source": "Import pandas module.\n",
      "metadata": {}
    },
    {
      "cell_type": "code",
      "source": "import pandas as pd",
      "metadata": {
        "trusted": true
      },
      "outputs": [
        {
          "name": "stderr",
          "text": "<ipython-input-3-7dd3504c366f>:1: DeprecationWarning: \nPyarrow will become a required dependency of pandas in the next major release of pandas (pandas 3.0),\n(to allow more performant data types, such as the Arrow string type, and better interoperability with other libraries)\nbut was not found to be installed on your system.\nIf this would cause problems for you,\nplease provide us feedback at https://github.com/pandas-dev/pandas/issues/54466\n        \n  import pandas as pd\n",
          "output_type": "stream"
        }
      ],
      "execution_count": 3
    },
    {
      "cell_type": "markdown",
      "source": "Load the dataset into a dataframe.\n",
      "metadata": {}
    },
    {
      "cell_type": "markdown",
      "source": "<h2>Read Data</h2>\n<p>\nWe utilize the <code>pandas.read_csv()</code> function for reading CSV files. However, in this version of the lab, which operates on JupyterLite, the dataset needs to be downloaded to the interface using the provided code below.\n</p>\n",
      "metadata": {}
    },
    {
      "cell_type": "markdown",
      "source": "The functions below will download the dataset into your browser:\n",
      "metadata": {}
    },
    {
      "cell_type": "code",
      "source": "from pyodide.http import pyfetch\n\nasync def download(url, filename):\n    response = await pyfetch(url)\n    if response.status == 200:\n        with open(filename, \"wb\") as f:\n            f.write(await response.bytes())",
      "metadata": {
        "trusted": true
      },
      "outputs": [],
      "execution_count": 4
    },
    {
      "cell_type": "code",
      "source": "file_path = \"https://cf-courses-data.s3.us.cloud-object-storage.appdomain.cloud/IBM-DA0321EN-SkillsNetwork/LargeData/m1_survey_data.csv\"",
      "metadata": {
        "trusted": true
      },
      "outputs": [],
      "execution_count": 5
    },
    {
      "cell_type": "markdown",
      "source": "To obtain the dataset, utilize the download() function as defined above:  \n",
      "metadata": {}
    },
    {
      "cell_type": "code",
      "source": "await download(file_path, \"m1_survey_data.csv\")\nfile_name=\"m1_survey_data.csv\"",
      "metadata": {
        "trusted": true
      },
      "outputs": [],
      "execution_count": 6
    },
    {
      "cell_type": "markdown",
      "source": "Utilize the Pandas method read_csv() to load the data into a dataframe.\n",
      "metadata": {}
    },
    {
      "cell_type": "code",
      "source": "df = pd.read_csv(\"m1_survey_data.csv\")",
      "metadata": {
        "trusted": true
      },
      "outputs": [],
      "execution_count": 22
    },
    {
      "cell_type": "markdown",
      "source": "> Note: This version of the lab is working on JupyterLite, which requires the dataset to be downloaded to the interface.While working on the downloaded version of this notebook on their local machines(Jupyter Anaconda), the learners can simply **skip the steps above,** and simply use the URL directly in the `pandas.read_csv()` function. You can uncomment and run the statements in the cell below.\n",
      "metadata": {}
    },
    {
      "cell_type": "code",
      "source": "#df = pd.read_csv(\"https://cf-courses-data.s3.us.cloud-object-storage.appdomain.cloud/IBM-DA0321EN-SkillsNetwork/LargeData/m1_survey_data.csv\")",
      "metadata": {
        "trusted": true
      },
      "outputs": [],
      "execution_count": 23
    },
    {
      "cell_type": "markdown",
      "source": "## Finding duplicates\n",
      "metadata": {}
    },
    {
      "cell_type": "markdown",
      "source": "In this section you will identify duplicate values in the dataset.\n",
      "metadata": {}
    },
    {
      "cell_type": "markdown",
      "source": " Find how many duplicate rows exist in the dataframe.\n",
      "metadata": {}
    },
    {
      "cell_type": "code",
      "source": "df.head()",
      "metadata": {
        "trusted": true
      },
      "outputs": [
        {
          "execution_count": 24,
          "output_type": "execute_result",
          "data": {
            "text/plain": "   Respondent                      MainBranch Hobbyist  \\\n0           4  I am a developer by profession       No   \n1           9  I am a developer by profession      Yes   \n2          13  I am a developer by profession      Yes   \n3          16  I am a developer by profession      Yes   \n4          17  I am a developer by profession      Yes   \n\n                                         OpenSourcer  \\\n0                                              Never   \n1                         Once a month or more often   \n2  Less than once a month but more than once per ...   \n3                                              Never   \n4  Less than once a month but more than once per ...   \n\n                                          OpenSource          Employment  \\\n0  The quality of OSS and closed source software ...  Employed full-time   \n1  The quality of OSS and closed source software ...  Employed full-time   \n2  OSS is, on average, of HIGHER quality than pro...  Employed full-time   \n3  The quality of OSS and closed source software ...  Employed full-time   \n4  The quality of OSS and closed source software ...  Employed full-time   \n\n          Country Student                                            EdLevel  \\\n0   United States      No           Bachelor’s degree (BA, BS, B.Eng., etc.)   \n1     New Zealand      No  Some college/university study without earning ...   \n2   United States      No        Master’s degree (MA, MS, M.Eng., MBA, etc.)   \n3  United Kingdom      No        Master’s degree (MA, MS, M.Eng., MBA, etc.)   \n4       Australia      No           Bachelor’s degree (BA, BS, B.Eng., etc.)   \n\n                                      UndergradMajor  ...  \\\n0  Computer science, computer engineering, or sof...  ...   \n1  Computer science, computer engineering, or sof...  ...   \n2  Computer science, computer engineering, or sof...  ...   \n3                                                NaN  ...   \n4  Computer science, computer engineering, or sof...  ...   \n\n                              WelcomeChange  \\\n0   Just as welcome now as I felt last year   \n1   Just as welcome now as I felt last year   \n2  Somewhat more welcome now than last year   \n3   Just as welcome now as I felt last year   \n4   Just as welcome now as I felt last year   \n\n                                        SONewContent   Age Gender Trans  \\\n0  Tech articles written by other developers;Indu...  22.0    Man    No   \n1                                                NaN  23.0    Man    No   \n2  Tech articles written by other developers;Cour...  28.0    Man    No   \n3  Tech articles written by other developers;Indu...  26.0    Man    No   \n4  Tech articles written by other developers;Indu...  29.0    Man    No   \n\n                 Sexuality                              Ethnicity Dependents  \\\n0  Straight / Heterosexual           White or of European descent         No   \n1                 Bisexual           White or of European descent         No   \n2  Straight / Heterosexual           White or of European descent        Yes   \n3  Straight / Heterosexual           White or of European descent         No   \n4  Straight / Heterosexual  Hispanic or Latino/Latina;Multiracial         No   \n\n            SurveyLength                  SurveyEase  \n0  Appropriate in length                        Easy  \n1  Appropriate in length  Neither easy nor difficult  \n2  Appropriate in length                        Easy  \n3  Appropriate in length  Neither easy nor difficult  \n4  Appropriate in length                        Easy  \n\n[5 rows x 85 columns]",
            "text/html": "<div>\n<style scoped>\n    .dataframe tbody tr th:only-of-type {\n        vertical-align: middle;\n    }\n\n    .dataframe tbody tr th {\n        vertical-align: top;\n    }\n\n    .dataframe thead th {\n        text-align: right;\n    }\n</style>\n<table border=\"1\" class=\"dataframe\">\n  <thead>\n    <tr style=\"text-align: right;\">\n      <th></th>\n      <th>Respondent</th>\n      <th>MainBranch</th>\n      <th>Hobbyist</th>\n      <th>OpenSourcer</th>\n      <th>OpenSource</th>\n      <th>Employment</th>\n      <th>Country</th>\n      <th>Student</th>\n      <th>EdLevel</th>\n      <th>UndergradMajor</th>\n      <th>...</th>\n      <th>WelcomeChange</th>\n      <th>SONewContent</th>\n      <th>Age</th>\n      <th>Gender</th>\n      <th>Trans</th>\n      <th>Sexuality</th>\n      <th>Ethnicity</th>\n      <th>Dependents</th>\n      <th>SurveyLength</th>\n      <th>SurveyEase</th>\n    </tr>\n  </thead>\n  <tbody>\n    <tr>\n      <th>0</th>\n      <td>4</td>\n      <td>I am a developer by profession</td>\n      <td>No</td>\n      <td>Never</td>\n      <td>The quality of OSS and closed source software ...</td>\n      <td>Employed full-time</td>\n      <td>United States</td>\n      <td>No</td>\n      <td>Bachelor’s degree (BA, BS, B.Eng., etc.)</td>\n      <td>Computer science, computer engineering, or sof...</td>\n      <td>...</td>\n      <td>Just as welcome now as I felt last year</td>\n      <td>Tech articles written by other developers;Indu...</td>\n      <td>22.0</td>\n      <td>Man</td>\n      <td>No</td>\n      <td>Straight / Heterosexual</td>\n      <td>White or of European descent</td>\n      <td>No</td>\n      <td>Appropriate in length</td>\n      <td>Easy</td>\n    </tr>\n    <tr>\n      <th>1</th>\n      <td>9</td>\n      <td>I am a developer by profession</td>\n      <td>Yes</td>\n      <td>Once a month or more often</td>\n      <td>The quality of OSS and closed source software ...</td>\n      <td>Employed full-time</td>\n      <td>New Zealand</td>\n      <td>No</td>\n      <td>Some college/university study without earning ...</td>\n      <td>Computer science, computer engineering, or sof...</td>\n      <td>...</td>\n      <td>Just as welcome now as I felt last year</td>\n      <td>NaN</td>\n      <td>23.0</td>\n      <td>Man</td>\n      <td>No</td>\n      <td>Bisexual</td>\n      <td>White or of European descent</td>\n      <td>No</td>\n      <td>Appropriate in length</td>\n      <td>Neither easy nor difficult</td>\n    </tr>\n    <tr>\n      <th>2</th>\n      <td>13</td>\n      <td>I am a developer by profession</td>\n      <td>Yes</td>\n      <td>Less than once a month but more than once per ...</td>\n      <td>OSS is, on average, of HIGHER quality than pro...</td>\n      <td>Employed full-time</td>\n      <td>United States</td>\n      <td>No</td>\n      <td>Master’s degree (MA, MS, M.Eng., MBA, etc.)</td>\n      <td>Computer science, computer engineering, or sof...</td>\n      <td>...</td>\n      <td>Somewhat more welcome now than last year</td>\n      <td>Tech articles written by other developers;Cour...</td>\n      <td>28.0</td>\n      <td>Man</td>\n      <td>No</td>\n      <td>Straight / Heterosexual</td>\n      <td>White or of European descent</td>\n      <td>Yes</td>\n      <td>Appropriate in length</td>\n      <td>Easy</td>\n    </tr>\n    <tr>\n      <th>3</th>\n      <td>16</td>\n      <td>I am a developer by profession</td>\n      <td>Yes</td>\n      <td>Never</td>\n      <td>The quality of OSS and closed source software ...</td>\n      <td>Employed full-time</td>\n      <td>United Kingdom</td>\n      <td>No</td>\n      <td>Master’s degree (MA, MS, M.Eng., MBA, etc.)</td>\n      <td>NaN</td>\n      <td>...</td>\n      <td>Just as welcome now as I felt last year</td>\n      <td>Tech articles written by other developers;Indu...</td>\n      <td>26.0</td>\n      <td>Man</td>\n      <td>No</td>\n      <td>Straight / Heterosexual</td>\n      <td>White or of European descent</td>\n      <td>No</td>\n      <td>Appropriate in length</td>\n      <td>Neither easy nor difficult</td>\n    </tr>\n    <tr>\n      <th>4</th>\n      <td>17</td>\n      <td>I am a developer by profession</td>\n      <td>Yes</td>\n      <td>Less than once a month but more than once per ...</td>\n      <td>The quality of OSS and closed source software ...</td>\n      <td>Employed full-time</td>\n      <td>Australia</td>\n      <td>No</td>\n      <td>Bachelor’s degree (BA, BS, B.Eng., etc.)</td>\n      <td>Computer science, computer engineering, or sof...</td>\n      <td>...</td>\n      <td>Just as welcome now as I felt last year</td>\n      <td>Tech articles written by other developers;Indu...</td>\n      <td>29.0</td>\n      <td>Man</td>\n      <td>No</td>\n      <td>Straight / Heterosexual</td>\n      <td>Hispanic or Latino/Latina;Multiracial</td>\n      <td>No</td>\n      <td>Appropriate in length</td>\n      <td>Easy</td>\n    </tr>\n  </tbody>\n</table>\n<p>5 rows × 85 columns</p>\n</div>"
          },
          "metadata": {}
        }
      ],
      "execution_count": 24
    },
    {
      "cell_type": "code",
      "source": "# your code goes here\ndf.duplicated().sum()",
      "metadata": {
        "trusted": true
      },
      "outputs": [
        {
          "execution_count": 25,
          "output_type": "execute_result",
          "data": {
            "text/plain": "154"
          },
          "metadata": {}
        }
      ],
      "execution_count": 25
    },
    {
      "cell_type": "code",
      "source": "df['Respondent'].duplicated(keep=False).sum()",
      "metadata": {
        "trusted": true
      },
      "outputs": [
        {
          "execution_count": 26,
          "output_type": "execute_result",
          "data": {
            "text/plain": "247"
          },
          "metadata": {}
        }
      ],
      "execution_count": 26
    },
    {
      "cell_type": "code",
      "source": "df['Respondent'].info()",
      "metadata": {
        "trusted": true
      },
      "outputs": [
        {
          "name": "stdout",
          "text": "<class 'pandas.core.series.Series'>\nIndex: 11398 entries, 0 to 11551\nSeries name: Respondent\nNon-Null Count  Dtype\n--------------  -----\n11398 non-null  int64\ndtypes: int64(1)\nmemory usage: 178.1 KB\n",
          "output_type": "stream"
        }
      ],
      "execution_count": 40
    },
    {
      "cell_type": "code",
      "source": "df['Respondent'].value_counts()",
      "metadata": {
        "trusted": true
      },
      "outputs": [
        {
          "execution_count": 55,
          "output_type": "execute_result",
          "data": {
            "text/plain": "Respondent\n4        1\n16696    1\n16656    1\n16657    1\n16658    1\n        ..\n8376     1\n8379     1\n8383     1\n8386     1\n25142    1\nName: count, Length: 11398, dtype: int64"
          },
          "metadata": {}
        }
      ],
      "execution_count": 55
    },
    {
      "cell_type": "markdown",
      "source": "## Removing duplicates\n",
      "metadata": {}
    },
    {
      "cell_type": "markdown",
      "source": "Remove the duplicate rows from the dataframe.\n",
      "metadata": {}
    },
    {
      "cell_type": "code",
      "source": "# your code goes here\ndf.drop_duplicates(inplace=True)",
      "metadata": {
        "trusted": true
      },
      "outputs": [],
      "execution_count": 27
    },
    {
      "cell_type": "markdown",
      "source": "Verify if duplicates were actually dropped.\n",
      "metadata": {}
    },
    {
      "cell_type": "code",
      "source": "# your code goes here\ndf.duplicated().sum()",
      "metadata": {
        "trusted": true
      },
      "outputs": [
        {
          "execution_count": 28,
          "output_type": "execute_result",
          "data": {
            "text/plain": "0"
          },
          "metadata": {}
        }
      ],
      "execution_count": 28
    },
    {
      "cell_type": "code",
      "source": "df.info()\n",
      "metadata": {
        "trusted": true
      },
      "outputs": [
        {
          "name": "stdout",
          "text": "<class 'pandas.core.frame.DataFrame'>\nIndex: 11398 entries, 0 to 11551\nData columns (total 86 columns):\n #   Column                        Non-Null Count  Dtype  \n---  ------                        --------------  -----  \n 0   Respondent                    11398 non-null  int64  \n 1   MainBranch                    11398 non-null  object \n 2   Hobbyist                      11398 non-null  object \n 3   OpenSourcer                   11398 non-null  object \n 4   OpenSource                    11317 non-null  object \n 5   Employment                    11398 non-null  object \n 6   Country                       11398 non-null  object \n 7   Student                       11347 non-null  object \n 8   EdLevel                       11286 non-null  object \n 9   UndergradMajor                10661 non-null  object \n 10  EduOther                      11234 non-null  object \n 11  OrgSize                       11302 non-null  object \n 12  DevType                       11333 non-null  object \n 13  YearsCode                     11389 non-null  object \n 14  Age1stCode                    11385 non-null  object \n 15  YearsCodePro                  11382 non-null  object \n 16  CareerSat                     11398 non-null  object \n 17  JobSat                        11397 non-null  object \n 18  MgrIdiot                      10905 non-null  object \n 19  MgrMoney                      10901 non-null  object \n 20  MgrWant                       10905 non-null  object \n 21  JobSeek                       11398 non-null  object \n 22  LastHireDate                  11398 non-null  object \n 23  LastInt                       10985 non-null  object \n 24  FizzBuzz                      11361 non-null  object \n 25  JobFactors                    11395 non-null  object \n 26  ResumeUpdate                  11359 non-null  object \n 27  CurrencySymbol                11398 non-null  object \n 28  CurrencyDesc                  11398 non-null  object \n 29  CompTotal                     10589 non-null  float64\n 30  CompFreq                      11192 non-null  object \n 31  ConvertedComp                 10582 non-null  float64\n 32  WorkWeekHrs                   11276 non-null  float64\n 33  WorkPlan                      11277 non-null  object \n 34  WorkChallenge                 11234 non-null  object \n 35  WorkRemote                    11390 non-null  object \n 36  WorkLoc                       11398 non-null  object \n 37  ImpSyn                        11393 non-null  object \n 38  CodeRev                       11397 non-null  object \n 39  CodeRevHrs                    8972 non-null   float64\n 40  UnitTests                     11369 non-null  object \n 41  PurchaseHow                   11202 non-null  object \n 42  PurchaseWhat                  11360 non-null  object \n 43  LanguageWorkedWith            11387 non-null  object \n 44  LanguageDesireNextYear        11264 non-null  object \n 45  DatabaseWorkedWith            10945 non-null  object \n 46  DatabaseDesireNextYear        10356 non-null  object \n 47  PlatformWorkedWith            10987 non-null  object \n 48  PlatformDesireNextYear        10854 non-null  object \n 49  WebFrameWorkedWith            10005 non-null  object \n 50  WebFrameDesireNextYear        9781 non-null   object \n 51  MiscTechWorkedWith            9216 non-null   object \n 52  MiscTechDesireNextYear        9943 non-null   object \n 53  DevEnviron                    11369 non-null  object \n 54  OpSys                         11364 non-null  object \n 55  Containers                    11316 non-null  object \n 56  BlockchainOrg                 9076 non-null   object \n 57  BlockchainIs                  8788 non-null   object \n 58  BetterLife                    11300 non-null  object \n 59  ITperson                      11363 non-null  object \n 60  OffOn                         11360 non-null  object \n 61  SocialMedia                   11105 non-null  object \n 62  Extraversion                  11378 non-null  object \n 63  ScreenName                    10891 non-null  object \n 64  SOVisit1st                    11073 non-null  object \n 65  SOVisitFreq                   11393 non-null  object \n 66  SOVisitTo                     11397 non-null  object \n 67  SOFindAnswer                  11395 non-null  object \n 68  SOTimeSaved                   11348 non-null  object \n 69  SOHowMuchTime                 9481 non-null   object \n 70  SOAccount                     11397 non-null  object \n 71  SOPartFreq                    10270 non-null  object \n 72  SOJobs                        11392 non-null  object \n 73  EntTeams                      11393 non-null  object \n 74  SOComm                        11398 non-null  object \n 75  WelcomeChange                 11313 non-null  object \n 76  SONewContent                  9433 non-null   object \n 77  Age                           11111 non-null  float64\n 78  Gender                        11325 non-null  object \n 79  Trans                         11275 non-null  object \n 80  Sexuality                     10856 non-null  object \n 81  Ethnicity                     10723 non-null  object \n 82  Dependents                    11258 non-null  object \n 83  SurveyLength                  11379 non-null  object \n 84  SurveyEase                    11384 non-null  object \n 85  NormalizedAnnualCompensation  10589 non-null  float64\ndtypes: float64(6), int64(1), object(79)\nmemory usage: 4.1+ MB\n",
          "output_type": "stream"
        }
      ],
      "execution_count": 38
    },
    {
      "cell_type": "markdown",
      "source": "## Finding Missing values\n",
      "metadata": {}
    },
    {
      "cell_type": "markdown",
      "source": "Find the missing values for all columns.\n",
      "metadata": {}
    },
    {
      "cell_type": "code",
      "source": "# your code goes here\ndf.isnull().sum()",
      "metadata": {
        "trusted": true
      },
      "outputs": [
        {
          "execution_count": 29,
          "output_type": "execute_result",
          "data": {
            "text/plain": "Respondent        0\nMainBranch        0\nHobbyist          0\nOpenSourcer       0\nOpenSource       81\n               ... \nSexuality       542\nEthnicity       675\nDependents      140\nSurveyLength     19\nSurveyEase       14\nLength: 85, dtype: int64"
          },
          "metadata": {}
        }
      ],
      "execution_count": 29
    },
    {
      "cell_type": "markdown",
      "source": "Find out how many rows are missing in the column 'WorkLoc'\n",
      "metadata": {}
    },
    {
      "cell_type": "code",
      "source": "# your code goes here\nmiss_data=df.isnull()\nmiss_data['WorkLoc'].value_counts()",
      "metadata": {
        "trusted": true
      },
      "outputs": [
        {
          "execution_count": 42,
          "output_type": "execute_result",
          "data": {
            "text/plain": "WorkLoc\nFalse    11398\nName: count, dtype: int64"
          },
          "metadata": {}
        }
      ],
      "execution_count": 42
    },
    {
      "cell_type": "code",
      "source": "miss_data['EdLevel'].value_counts()",
      "metadata": {
        "trusted": true
      },
      "outputs": [
        {
          "execution_count": 44,
          "output_type": "execute_result",
          "data": {
            "text/plain": "EdLevel\nFalse    11286\nTrue       112\nName: count, dtype: int64"
          },
          "metadata": {}
        }
      ],
      "execution_count": 44
    },
    {
      "cell_type": "code",
      "source": "miss_data['Country'].value_counts()",
      "metadata": {
        "trusted": true
      },
      "outputs": [
        {
          "execution_count": 45,
          "output_type": "execute_result",
          "data": {
            "text/plain": "Country\nFalse    11398\nName: count, dtype: int64"
          },
          "metadata": {}
        }
      ],
      "execution_count": 45
    },
    {
      "cell_type": "markdown",
      "source": "## Imputing missing values\n",
      "metadata": {}
    },
    {
      "cell_type": "markdown",
      "source": "Find the  value counts for the column WorkLoc.\n",
      "metadata": {}
    },
    {
      "cell_type": "code",
      "source": "# your code goes here\ndf['WorkLoc'].value_counts()",
      "metadata": {
        "trusted": true
      },
      "outputs": [
        {
          "execution_count": 31,
          "output_type": "execute_result",
          "data": {
            "text/plain": "WorkLoc\nOffice                                            6806\nHome                                              3589\nOther place, such as a coworking space or cafe     971\nName: count, dtype: int64"
          },
          "metadata": {}
        }
      ],
      "execution_count": 31
    },
    {
      "cell_type": "markdown",
      "source": "Identify the value that is most frequent (majority) in the WorkLoc column.\n",
      "metadata": {}
    },
    {
      "cell_type": "code",
      "source": "#make a note of the majority value here, for future reference\ndf['WorkLoc'].value_counts().idxmax()",
      "metadata": {
        "trusted": true
      },
      "outputs": [
        {
          "execution_count": 32,
          "output_type": "execute_result",
          "data": {
            "text/plain": "'Office'"
          },
          "metadata": {}
        }
      ],
      "execution_count": 32
    },
    {
      "cell_type": "markdown",
      "source": "Impute (replace) all the empty rows in the column WorkLoc with the value that you have identified as majority.\n",
      "metadata": {}
    },
    {
      "cell_type": "code",
      "source": "# your code goes here\ndf['WorkLoc'].fillna('Office', inplace=True)",
      "metadata": {
        "trusted": true
      },
      "outputs": [
        {
          "name": "stderr",
          "text": "<ipython-input-33-768b06206376>:2: FutureWarning: A value is trying to be set on a copy of a DataFrame or Series through chained assignment using an inplace method.\nThe behavior will change in pandas 3.0. This inplace method will never work because the intermediate object on which we are setting values always behaves as a copy.\n\nFor example, when doing 'df[col].method(value, inplace=True)', try using 'df.method({col: value}, inplace=True)' or df[col] = df[col].method(value) instead, to perform the operation inplace on the original object.\n\n\n  df['WorkLoc'].fillna('Office', inplace=True)\n",
          "output_type": "stream"
        }
      ],
      "execution_count": 33
    },
    {
      "cell_type": "markdown",
      "source": "After imputation there should ideally not be any empty rows in the WorkLoc column.\n",
      "metadata": {}
    },
    {
      "cell_type": "markdown",
      "source": "Verify if imputing was successful.\n",
      "metadata": {}
    },
    {
      "cell_type": "code",
      "source": "# your code goes here\ndf['WorkLoc'].isnull().value_counts()",
      "metadata": {
        "trusted": true
      },
      "outputs": [
        {
          "execution_count": 34,
          "output_type": "execute_result",
          "data": {
            "text/plain": "WorkLoc\nFalse    11398\nName: count, dtype: int64"
          },
          "metadata": {}
        }
      ],
      "execution_count": 34
    },
    {
      "cell_type": "code",
      "source": "df['Employment'].value_counts().idxmax()",
      "metadata": {
        "trusted": true
      },
      "outputs": [
        {
          "execution_count": 46,
          "output_type": "execute_result",
          "data": {
            "text/plain": "'Employed full-time'"
          },
          "metadata": {}
        }
      ],
      "execution_count": 46
    },
    {
      "cell_type": "code",
      "source": "df['UndergradMajor'].value_counts().idxmin()",
      "metadata": {
        "trusted": true
      },
      "outputs": [
        {
          "execution_count": 47,
          "output_type": "execute_result",
          "data": {
            "text/plain": "'A health science (ex. nursing, pharmacy, radiology)'"
          },
          "metadata": {}
        }
      ],
      "execution_count": 47
    },
    {
      "cell_type": "markdown",
      "source": "## Normalizing data\n",
      "metadata": {}
    },
    {
      "cell_type": "markdown",
      "source": "There are two columns in the dataset that talk about compensation.\n\nOne is \"CompFreq\". This column shows how often a developer is paid (Yearly, Monthly, Weekly).\n\nThe other is \"CompTotal\". This column talks about how much the developer is paid per Year, Month, or Week depending upon his/her \"CompFreq\". \n\nThis makes it difficult to compare the total compensation of the developers.\n\nIn this section you will create a new column called 'NormalizedAnnualCompensation' which contains the 'Annual Compensation' irrespective of the 'CompFreq'.\n\nOnce this column is ready, it makes comparison of salaries easy.\n",
      "metadata": {}
    },
    {
      "cell_type": "markdown",
      "source": "<hr>\n",
      "metadata": {}
    },
    {
      "cell_type": "markdown",
      "source": "List out the various categories in the column 'CompFreq'\n",
      "metadata": {}
    },
    {
      "cell_type": "code",
      "source": "# your code goes here\ndf['CompFreq'].value_counts()",
      "metadata": {
        "trusted": true
      },
      "outputs": [
        {
          "execution_count": 35,
          "output_type": "execute_result",
          "data": {
            "text/plain": "CompFreq\nYearly     6073\nMonthly    4788\nWeekly      331\nName: count, dtype: int64"
          },
          "metadata": {}
        }
      ],
      "execution_count": 35
    },
    {
      "cell_type": "code",
      "source": "print(len(df['CompFreq'].unique()))",
      "metadata": {
        "trusted": true
      },
      "outputs": [
        {
          "name": "stdout",
          "text": "4\n",
          "output_type": "stream"
        }
      ],
      "execution_count": 52
    },
    {
      "cell_type": "markdown",
      "source": "Create a new column named 'NormalizedAnnualCompensation'. Use the hint given below if needed.\n",
      "metadata": {}
    },
    {
      "cell_type": "markdown",
      "source": "Double click to see the **Hint**.\n\n<!--\n\nUse the below logic to arrive at the values for the column NormalizedAnnualCompensation.\n\nIf the CompFreq is Yearly then use the exising value in CompTotal\nIf the CompFreq is Monthly then multiply the value in CompTotal with 12 (months in an year)\nIf the CompFreq is Weekly then multiply the value in CompTotal with 52 (weeks in an year)\n\n-->\n",
      "metadata": {}
    },
    {
      "cell_type": "code",
      "source": "# your code goes here\nnorm_annual_comp = []\n\nfor i in range(len(df)):\n    \n    if df['CompFreq'].iloc[i] == 'Weekly':\n        norm_annual_comp.append(df['CompTotal'].iloc[i]*52)\n    elif df['CompFreq'].iloc[i] == 'Monthly':\n        norm_annual_comp.append(df['CompTotal'].iloc[i]*12)\n    else:\n        norm_annual_comp.append(df['CompTotal'].iloc[i]*1)\n\ndf['NormalizedAnnualCompensation']= norm_annual_comp\ndf.head()",
      "metadata": {
        "trusted": true
      },
      "outputs": [
        {
          "execution_count": 36,
          "output_type": "execute_result",
          "data": {
            "text/plain": "   Respondent                      MainBranch Hobbyist  \\\n0           4  I am a developer by profession       No   \n1           9  I am a developer by profession      Yes   \n2          13  I am a developer by profession      Yes   \n3          16  I am a developer by profession      Yes   \n4          17  I am a developer by profession      Yes   \n\n                                         OpenSourcer  \\\n0                                              Never   \n1                         Once a month or more often   \n2  Less than once a month but more than once per ...   \n3                                              Never   \n4  Less than once a month but more than once per ...   \n\n                                          OpenSource          Employment  \\\n0  The quality of OSS and closed source software ...  Employed full-time   \n1  The quality of OSS and closed source software ...  Employed full-time   \n2  OSS is, on average, of HIGHER quality than pro...  Employed full-time   \n3  The quality of OSS and closed source software ...  Employed full-time   \n4  The quality of OSS and closed source software ...  Employed full-time   \n\n          Country Student                                            EdLevel  \\\n0   United States      No           Bachelor’s degree (BA, BS, B.Eng., etc.)   \n1     New Zealand      No  Some college/university study without earning ...   \n2   United States      No        Master’s degree (MA, MS, M.Eng., MBA, etc.)   \n3  United Kingdom      No        Master’s degree (MA, MS, M.Eng., MBA, etc.)   \n4       Australia      No           Bachelor’s degree (BA, BS, B.Eng., etc.)   \n\n                                      UndergradMajor  ...  \\\n0  Computer science, computer engineering, or sof...  ...   \n1  Computer science, computer engineering, or sof...  ...   \n2  Computer science, computer engineering, or sof...  ...   \n3                                                NaN  ...   \n4  Computer science, computer engineering, or sof...  ...   \n\n                                        SONewContent   Age Gender Trans  \\\n0  Tech articles written by other developers;Indu...  22.0    Man    No   \n1                                                NaN  23.0    Man    No   \n2  Tech articles written by other developers;Cour...  28.0    Man    No   \n3  Tech articles written by other developers;Indu...  26.0    Man    No   \n4  Tech articles written by other developers;Indu...  29.0    Man    No   \n\n                 Sexuality                              Ethnicity Dependents  \\\n0  Straight / Heterosexual           White or of European descent         No   \n1                 Bisexual           White or of European descent         No   \n2  Straight / Heterosexual           White or of European descent        Yes   \n3  Straight / Heterosexual           White or of European descent         No   \n4  Straight / Heterosexual  Hispanic or Latino/Latina;Multiracial         No   \n\n            SurveyLength                  SurveyEase  \\\n0  Appropriate in length                        Easy   \n1  Appropriate in length  Neither easy nor difficult   \n2  Appropriate in length                        Easy   \n3  Appropriate in length  Neither easy nor difficult   \n4  Appropriate in length                        Easy   \n\n  NormalizedAnnualCompensation  \n0                      61000.0  \n1                     138000.0  \n2                      90000.0  \n3                     348000.0  \n4                      90000.0  \n\n[5 rows x 86 columns]",
            "text/html": "<div>\n<style scoped>\n    .dataframe tbody tr th:only-of-type {\n        vertical-align: middle;\n    }\n\n    .dataframe tbody tr th {\n        vertical-align: top;\n    }\n\n    .dataframe thead th {\n        text-align: right;\n    }\n</style>\n<table border=\"1\" class=\"dataframe\">\n  <thead>\n    <tr style=\"text-align: right;\">\n      <th></th>\n      <th>Respondent</th>\n      <th>MainBranch</th>\n      <th>Hobbyist</th>\n      <th>OpenSourcer</th>\n      <th>OpenSource</th>\n      <th>Employment</th>\n      <th>Country</th>\n      <th>Student</th>\n      <th>EdLevel</th>\n      <th>UndergradMajor</th>\n      <th>...</th>\n      <th>SONewContent</th>\n      <th>Age</th>\n      <th>Gender</th>\n      <th>Trans</th>\n      <th>Sexuality</th>\n      <th>Ethnicity</th>\n      <th>Dependents</th>\n      <th>SurveyLength</th>\n      <th>SurveyEase</th>\n      <th>NormalizedAnnualCompensation</th>\n    </tr>\n  </thead>\n  <tbody>\n    <tr>\n      <th>0</th>\n      <td>4</td>\n      <td>I am a developer by profession</td>\n      <td>No</td>\n      <td>Never</td>\n      <td>The quality of OSS and closed source software ...</td>\n      <td>Employed full-time</td>\n      <td>United States</td>\n      <td>No</td>\n      <td>Bachelor’s degree (BA, BS, B.Eng., etc.)</td>\n      <td>Computer science, computer engineering, or sof...</td>\n      <td>...</td>\n      <td>Tech articles written by other developers;Indu...</td>\n      <td>22.0</td>\n      <td>Man</td>\n      <td>No</td>\n      <td>Straight / Heterosexual</td>\n      <td>White or of European descent</td>\n      <td>No</td>\n      <td>Appropriate in length</td>\n      <td>Easy</td>\n      <td>61000.0</td>\n    </tr>\n    <tr>\n      <th>1</th>\n      <td>9</td>\n      <td>I am a developer by profession</td>\n      <td>Yes</td>\n      <td>Once a month or more often</td>\n      <td>The quality of OSS and closed source software ...</td>\n      <td>Employed full-time</td>\n      <td>New Zealand</td>\n      <td>No</td>\n      <td>Some college/university study without earning ...</td>\n      <td>Computer science, computer engineering, or sof...</td>\n      <td>...</td>\n      <td>NaN</td>\n      <td>23.0</td>\n      <td>Man</td>\n      <td>No</td>\n      <td>Bisexual</td>\n      <td>White or of European descent</td>\n      <td>No</td>\n      <td>Appropriate in length</td>\n      <td>Neither easy nor difficult</td>\n      <td>138000.0</td>\n    </tr>\n    <tr>\n      <th>2</th>\n      <td>13</td>\n      <td>I am a developer by profession</td>\n      <td>Yes</td>\n      <td>Less than once a month but more than once per ...</td>\n      <td>OSS is, on average, of HIGHER quality than pro...</td>\n      <td>Employed full-time</td>\n      <td>United States</td>\n      <td>No</td>\n      <td>Master’s degree (MA, MS, M.Eng., MBA, etc.)</td>\n      <td>Computer science, computer engineering, or sof...</td>\n      <td>...</td>\n      <td>Tech articles written by other developers;Cour...</td>\n      <td>28.0</td>\n      <td>Man</td>\n      <td>No</td>\n      <td>Straight / Heterosexual</td>\n      <td>White or of European descent</td>\n      <td>Yes</td>\n      <td>Appropriate in length</td>\n      <td>Easy</td>\n      <td>90000.0</td>\n    </tr>\n    <tr>\n      <th>3</th>\n      <td>16</td>\n      <td>I am a developer by profession</td>\n      <td>Yes</td>\n      <td>Never</td>\n      <td>The quality of OSS and closed source software ...</td>\n      <td>Employed full-time</td>\n      <td>United Kingdom</td>\n      <td>No</td>\n      <td>Master’s degree (MA, MS, M.Eng., MBA, etc.)</td>\n      <td>NaN</td>\n      <td>...</td>\n      <td>Tech articles written by other developers;Indu...</td>\n      <td>26.0</td>\n      <td>Man</td>\n      <td>No</td>\n      <td>Straight / Heterosexual</td>\n      <td>White or of European descent</td>\n      <td>No</td>\n      <td>Appropriate in length</td>\n      <td>Neither easy nor difficult</td>\n      <td>348000.0</td>\n    </tr>\n    <tr>\n      <th>4</th>\n      <td>17</td>\n      <td>I am a developer by profession</td>\n      <td>Yes</td>\n      <td>Less than once a month but more than once per ...</td>\n      <td>The quality of OSS and closed source software ...</td>\n      <td>Employed full-time</td>\n      <td>Australia</td>\n      <td>No</td>\n      <td>Bachelor’s degree (BA, BS, B.Eng., etc.)</td>\n      <td>Computer science, computer engineering, or sof...</td>\n      <td>...</td>\n      <td>Tech articles written by other developers;Indu...</td>\n      <td>29.0</td>\n      <td>Man</td>\n      <td>No</td>\n      <td>Straight / Heterosexual</td>\n      <td>Hispanic or Latino/Latina;Multiracial</td>\n      <td>No</td>\n      <td>Appropriate in length</td>\n      <td>Easy</td>\n      <td>90000.0</td>\n    </tr>\n  </tbody>\n</table>\n<p>5 rows × 86 columns</p>\n</div>"
          },
          "metadata": {}
        }
      ],
      "execution_count": 36
    },
    {
      "cell_type": "code",
      "source": "df['NormalizedAnnualCompensation'].median()",
      "metadata": {
        "trusted": true
      },
      "outputs": [
        {
          "execution_count": 56,
          "output_type": "execute_result",
          "data": {
            "text/plain": "100000.0"
          },
          "metadata": {}
        }
      ],
      "execution_count": 56
    },
    {
      "cell_type": "markdown",
      "source": "## Authors\n",
      "metadata": {}
    },
    {
      "cell_type": "markdown",
      "source": "Ramesh Sannareddy\n",
      "metadata": {}
    },
    {
      "cell_type": "markdown",
      "source": "### Other Contributors\n",
      "metadata": {}
    },
    {
      "cell_type": "markdown",
      "source": "Rav Ahuja\n",
      "metadata": {}
    },
    {
      "cell_type": "markdown",
      "source": " Copyright © 2020 IBM Corporation. This notebook and its source code are released under the terms of the [MIT License](https://cognitiveclass.ai/mit-license?utm_medium=Exinfluencer&utm_source=Exinfluencer&utm_content=000026UJ&utm_term=10006555&utm_id=NA-SkillsNetwork-Channel-SkillsNetworkCoursesIBMDA0321ENSkillsNetwork928-2022-01-01&cm_mmc=Email_Newsletter-_-Developer_Ed%2BTech-_-WW_WW-_-SkillsNetwork-Courses-IBM-DA0321EN-SkillsNetwork-21426264&cm_mmca1=000026UJ&cm_mmca2=10006555&cm_mmca3=M12345678&cvosrc=email.Newsletter.M12345678&cvo_campaign=000026UJ).\n",
      "metadata": {}
    },
    {
      "cell_type": "markdown",
      "source": "<!--## Change Log\n",
      "metadata": {}
    },
    {
      "cell_type": "markdown",
      "source": "<!--| Date (YYYY-MM-DD) | Version | Changed By        | Change Description                 |\n| ----------------- | ------- | ----------------- | ---------------------------------- |\n| 2020-10-17        | 0.1     | Ramesh Sannareddy | Created initial version of the lab |--!>\n",
      "metadata": {}
    }
  ]
}